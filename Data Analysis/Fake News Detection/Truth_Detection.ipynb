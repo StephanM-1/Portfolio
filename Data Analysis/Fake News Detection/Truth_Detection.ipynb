{
 "cells": [
  {
   "cell_type": "code",
   "execution_count": 23,
   "source": [
    "import pandas as pd\n",
    "import seaborn as sns\n",
    "from sklearn.model_selection import train_test_split\n",
    "from sklearn.metrics import ConfusionMatrixDisplay, classification_report\n",
    "from sklearn.feature_extraction.text import TfidfVectorizer\n",
    "from sklearn.linear_model import LogisticRegression\n",
    "import re\n",
    "import string"
   ],
   "outputs": [],
   "metadata": {}
  },
  {
   "cell_type": "code",
   "execution_count": 24,
   "source": [
    "#Get the news file\n",
    "news = pd.read_excel(\"news.xlsx\")\n",
    "news.head()"
   ],
   "outputs": [
    {
     "output_type": "execute_result",
     "data": {
      "text/html": [
       "<div>\n",
       "<style scoped>\n",
       "    .dataframe tbody tr th:only-of-type {\n",
       "        vertical-align: middle;\n",
       "    }\n",
       "\n",
       "    .dataframe tbody tr th {\n",
       "        vertical-align: top;\n",
       "    }\n",
       "\n",
       "    .dataframe thead th {\n",
       "        text-align: right;\n",
       "    }\n",
       "</style>\n",
       "<table border=\"1\" class=\"dataframe\">\n",
       "  <thead>\n",
       "    <tr style=\"text-align: right;\">\n",
       "      <th></th>\n",
       "      <th>id</th>\n",
       "      <th>title</th>\n",
       "      <th>text</th>\n",
       "      <th>label</th>\n",
       "    </tr>\n",
       "  </thead>\n",
       "  <tbody>\n",
       "    <tr>\n",
       "      <th>0</th>\n",
       "      <td>2</td>\n",
       "      <td>Study: women had to drive 4 times farther afte...</td>\n",
       "      <td>Ever since Texas laws closed about half of the...</td>\n",
       "      <td>REAL</td>\n",
       "    </tr>\n",
       "    <tr>\n",
       "      <th>1</th>\n",
       "      <td>3</td>\n",
       "      <td>Trump, Clinton clash in dueling DC speeches</td>\n",
       "      <td>Donald Trump and Hillary Clinton, now at the s...</td>\n",
       "      <td>REAL</td>\n",
       "    </tr>\n",
       "    <tr>\n",
       "      <th>2</th>\n",
       "      <td>5</td>\n",
       "      <td>As Reproductive Rights Hang In The Balance, De...</td>\n",
       "      <td>WASHINGTON -- Forty-three years after the Supr...</td>\n",
       "      <td>REAL</td>\n",
       "    </tr>\n",
       "    <tr>\n",
       "      <th>3</th>\n",
       "      <td>6</td>\n",
       "      <td>Despite Constant Debate, Americans' Abortion O...</td>\n",
       "      <td>It's been a big week for abortion news.\\n\\nCar...</td>\n",
       "      <td>REAL</td>\n",
       "    </tr>\n",
       "    <tr>\n",
       "      <th>4</th>\n",
       "      <td>7</td>\n",
       "      <td>Obama Argues Against Goverment Shutdown Over P...</td>\n",
       "      <td>President Barack ObamaÂ saidÂ Saturday night t...</td>\n",
       "      <td>REAL</td>\n",
       "    </tr>\n",
       "  </tbody>\n",
       "</table>\n",
       "</div>"
      ],
      "text/plain": [
       "   id                                              title   \n",
       "0   2  Study: women had to drive 4 times farther afte...  \\\n",
       "1   3        Trump, Clinton clash in dueling DC speeches   \n",
       "2   5  As Reproductive Rights Hang In The Balance, De...   \n",
       "3   6  Despite Constant Debate, Americans' Abortion O...   \n",
       "4   7  Obama Argues Against Goverment Shutdown Over P...   \n",
       "\n",
       "                                                text label  \n",
       "0  Ever since Texas laws closed about half of the...  REAL  \n",
       "1  Donald Trump and Hillary Clinton, now at the s...  REAL  \n",
       "2  WASHINGTON -- Forty-three years after the Supr...  REAL  \n",
       "3  It's been a big week for abortion news.\\n\\nCar...  REAL  \n",
       "4  President Barack ObamaÂ saidÂ Saturday night t...  REAL  "
      ]
     },
     "metadata": {},
     "execution_count": 24
    }
   ],
   "metadata": {}
  },
  {
   "cell_type": "code",
   "execution_count": 25,
   "source": [
    "#Create a numerical truth class with 2 categories\n",
    "truth_class = []\n",
    "for row in news['label']:\n",
    "    if row == \"REAL\":\n",
    "        truth_class.append(1)\n",
    "    else:           \n",
    "        truth_class.append(0)\n",
    "news[\"truth_class\"] = truth_class\n",
    "news = news.sample(frac=1)\n",
    "news.head()"
   ],
   "outputs": [
    {
     "output_type": "execute_result",
     "data": {
      "text/html": [
       "<div>\n",
       "<style scoped>\n",
       "    .dataframe tbody tr th:only-of-type {\n",
       "        vertical-align: middle;\n",
       "    }\n",
       "\n",
       "    .dataframe tbody tr th {\n",
       "        vertical-align: top;\n",
       "    }\n",
       "\n",
       "    .dataframe thead th {\n",
       "        text-align: right;\n",
       "    }\n",
       "</style>\n",
       "<table border=\"1\" class=\"dataframe\">\n",
       "  <thead>\n",
       "    <tr style=\"text-align: right;\">\n",
       "      <th></th>\n",
       "      <th>id</th>\n",
       "      <th>title</th>\n",
       "      <th>text</th>\n",
       "      <th>label</th>\n",
       "      <th>truth_class</th>\n",
       "    </tr>\n",
       "  </thead>\n",
       "  <tbody>\n",
       "    <tr>\n",
       "      <th>1108</th>\n",
       "      <td>1844</td>\n",
       "      <td>Clinton clearing primary field for potential 2...</td>\n",
       "      <td>Hillary Clinton appears to have scared away mu...</td>\n",
       "      <td>REAL</td>\n",
       "      <td>1</td>\n",
       "    </tr>\n",
       "    <tr>\n",
       "      <th>3195</th>\n",
       "      <td>5342</td>\n",
       "      <td>Die Hard 3 Predicts Hillary Clinton To be Pres...</td>\n",
       "      <td>Hollyjood strikes again ! Quoting: Buck Bundy ...</td>\n",
       "      <td>FAKE</td>\n",
       "      <td>0</td>\n",
       "    </tr>\n",
       "    <tr>\n",
       "      <th>5013</th>\n",
       "      <td>8396</td>\n",
       "      <td>Lawyer Who Kept Hillary Campaign Chief Out of ...</td>\n",
       "      <td>Lawyer Who Kept Hillary Campaign Chief Out of ...</td>\n",
       "      <td>FAKE</td>\n",
       "      <td>0</td>\n",
       "    </tr>\n",
       "    <tr>\n",
       "      <th>4752</th>\n",
       "      <td>7964</td>\n",
       "      <td>Flashback: Clinton cheered 11th-hour indictmen...</td>\n",
       "      <td>Print \\nWhispers of â€œpaybackâ€ are being di...</td>\n",
       "      <td>FAKE</td>\n",
       "      <td>0</td>\n",
       "    </tr>\n",
       "    <tr>\n",
       "      <th>137</th>\n",
       "      <td>231</td>\n",
       "      <td>Why is Paul Ryan miffed about new budget deal?</td>\n",
       "      <td>The budget deal was crafted by outgoing Speake...</td>\n",
       "      <td>REAL</td>\n",
       "      <td>1</td>\n",
       "    </tr>\n",
       "  </tbody>\n",
       "</table>\n",
       "</div>"
      ],
      "text/plain": [
       "        id                                              title   \n",
       "1108  1844  Clinton clearing primary field for potential 2...  \\\n",
       "3195  5342  Die Hard 3 Predicts Hillary Clinton To be Pres...   \n",
       "5013  8396  Lawyer Who Kept Hillary Campaign Chief Out of ...   \n",
       "4752  7964  Flashback: Clinton cheered 11th-hour indictmen...   \n",
       "137    231     Why is Paul Ryan miffed about new budget deal?   \n",
       "\n",
       "                                                   text label  truth_class  \n",
       "1108  Hillary Clinton appears to have scared away mu...  REAL            1  \n",
       "3195  Hollyjood strikes again ! Quoting: Buck Bundy ...  FAKE            0  \n",
       "5013  Lawyer Who Kept Hillary Campaign Chief Out of ...  FAKE            0  \n",
       "4752  Print \\nWhispers of â€œpaybackâ€ are being di...  FAKE            0  \n",
       "137   The budget deal was crafted by outgoing Speake...  REAL            1  "
      ]
     },
     "metadata": {},
     "execution_count": 25
    }
   ],
   "metadata": {}
  },
  {
   "cell_type": "code",
   "execution_count": 26,
   "source": [
    "#Plot the truth class count \n",
    "sns.countplot(x=news.truth_class,data=news,palette='Set2').set(title=\"Labels Count\");"
   ],
   "outputs": [
    {
     "output_type": "display_data",
     "data": {
      "image/png": "[encoded data removed]",
      "text/plain": [
       "<Figure size 640x480 with 1 Axes>"
      ]
     },
     "metadata": {}
    }
   ],
   "metadata": {}
  },
  {
   "cell_type": "code",
   "execution_count": 27,
   "source": [
    "news.reset_index(inplace= True)\n",
    "news.head()"
   ],
   "outputs": [
    {
     "output_type": "execute_result",
     "data": {
      "text/html": [
       "<div>\n",
       "<style scoped>\n",
       "    .dataframe tbody tr th:only-of-type {\n",
       "        vertical-align: middle;\n",
       "    }\n",
       "\n",
       "    .dataframe tbody tr th {\n",
       "        vertical-align: top;\n",
       "    }\n",
       "\n",
       "    .dataframe thead th {\n",
       "        text-align: right;\n",
       "    }\n",
       "</style>\n",
       "<table border=\"1\" class=\"dataframe\">\n",
       "  <thead>\n",
       "    <tr style=\"text-align: right;\">\n",
       "      <th></th>\n",
       "      <th>index</th>\n",
       "      <th>id</th>\n",
       "      <th>title</th>\n",
       "      <th>text</th>\n",
       "      <th>label</th>\n",
       "      <th>truth_class</th>\n",
       "    </tr>\n",
       "  </thead>\n",
       "  <tbody>\n",
       "    <tr>\n",
       "      <th>0</th>\n",
       "      <td>1108</td>\n",
       "      <td>1844</td>\n",
       "      <td>Clinton clearing primary field for potential 2...</td>\n",
       "      <td>Hillary Clinton appears to have scared away mu...</td>\n",
       "      <td>REAL</td>\n",
       "      <td>1</td>\n",
       "    </tr>\n",
       "    <tr>\n",
       "      <th>1</th>\n",
       "      <td>3195</td>\n",
       "      <td>5342</td>\n",
       "      <td>Die Hard 3 Predicts Hillary Clinton To be Pres...</td>\n",
       "      <td>Hollyjood strikes again ! Quoting: Buck Bundy ...</td>\n",
       "      <td>FAKE</td>\n",
       "      <td>0</td>\n",
       "    </tr>\n",
       "    <tr>\n",
       "      <th>2</th>\n",
       "      <td>5013</td>\n",
       "      <td>8396</td>\n",
       "      <td>Lawyer Who Kept Hillary Campaign Chief Out of ...</td>\n",
       "      <td>Lawyer Who Kept Hillary Campaign Chief Out of ...</td>\n",
       "      <td>FAKE</td>\n",
       "      <td>0</td>\n",
       "    </tr>\n",
       "    <tr>\n",
       "      <th>3</th>\n",
       "      <td>4752</td>\n",
       "      <td>7964</td>\n",
       "      <td>Flashback: Clinton cheered 11th-hour indictmen...</td>\n",
       "      <td>Print \\nWhispers of â€œpaybackâ€ are being di...</td>\n",
       "      <td>FAKE</td>\n",
       "      <td>0</td>\n",
       "    </tr>\n",
       "    <tr>\n",
       "      <th>4</th>\n",
       "      <td>137</td>\n",
       "      <td>231</td>\n",
       "      <td>Why is Paul Ryan miffed about new budget deal?</td>\n",
       "      <td>The budget deal was crafted by outgoing Speake...</td>\n",
       "      <td>REAL</td>\n",
       "      <td>1</td>\n",
       "    </tr>\n",
       "  </tbody>\n",
       "</table>\n",
       "</div>"
      ],
      "text/plain": [
       "   index    id                                              title   \n",
       "0   1108  1844  Clinton clearing primary field for potential 2...  \\\n",
       "1   3195  5342  Die Hard 3 Predicts Hillary Clinton To be Pres...   \n",
       "2   5013  8396  Lawyer Who Kept Hillary Campaign Chief Out of ...   \n",
       "3   4752  7964  Flashback: Clinton cheered 11th-hour indictmen...   \n",
       "4    137   231     Why is Paul Ryan miffed about new budget deal?   \n",
       "\n",
       "                                                text label  truth_class  \n",
       "0  Hillary Clinton appears to have scared away mu...  REAL            1  \n",
       "1  Hollyjood strikes again ! Quoting: Buck Bundy ...  FAKE            0  \n",
       "2  Lawyer Who Kept Hillary Campaign Chief Out of ...  FAKE            0  \n",
       "3  Print \\nWhispers of â€œpaybackâ€ are being di...  FAKE            0  \n",
       "4  The budget deal was crafted by outgoing Speake...  REAL            1  "
      ]
     },
     "metadata": {},
     "execution_count": 27
    }
   ],
   "metadata": {}
  },
  {
   "cell_type": "code",
   "execution_count": 28,
   "source": [
    "#Remove all unnecessary columns\n",
    "news.drop(columns=['index','id','title','label'],inplace=True)\n",
    "news.head()"
   ],
   "outputs": [
    {
     "output_type": "execute_result",
     "data": {
      "text/html": [
       "<div>\n",
       "<style scoped>\n",
       "    .dataframe tbody tr th:only-of-type {\n",
       "        vertical-align: middle;\n",
       "    }\n",
       "\n",
       "    .dataframe tbody tr th {\n",
       "        vertical-align: top;\n",
       "    }\n",
       "\n",
       "    .dataframe thead th {\n",
       "        text-align: right;\n",
       "    }\n",
       "</style>\n",
       "<table border=\"1\" class=\"dataframe\">\n",
       "  <thead>\n",
       "    <tr style=\"text-align: right;\">\n",
       "      <th></th>\n",
       "      <th>text</th>\n",
       "      <th>truth_class</th>\n",
       "    </tr>\n",
       "  </thead>\n",
       "  <tbody>\n",
       "    <tr>\n",
       "      <th>0</th>\n",
       "      <td>Hillary Clinton appears to have scared away mu...</td>\n",
       "      <td>1</td>\n",
       "    </tr>\n",
       "    <tr>\n",
       "      <th>1</th>\n",
       "      <td>Hollyjood strikes again ! Quoting: Buck Bundy ...</td>\n",
       "      <td>0</td>\n",
       "    </tr>\n",
       "    <tr>\n",
       "      <th>2</th>\n",
       "      <td>Lawyer Who Kept Hillary Campaign Chief Out of ...</td>\n",
       "      <td>0</td>\n",
       "    </tr>\n",
       "    <tr>\n",
       "      <th>3</th>\n",
       "      <td>Print \\nWhispers of â€œpaybackâ€ are being di...</td>\n",
       "      <td>0</td>\n",
       "    </tr>\n",
       "    <tr>\n",
       "      <th>4</th>\n",
       "      <td>The budget deal was crafted by outgoing Speake...</td>\n",
       "      <td>1</td>\n",
       "    </tr>\n",
       "  </tbody>\n",
       "</table>\n",
       "</div>"
      ],
      "text/plain": [
       "                                                text  truth_class\n",
       "0  Hillary Clinton appears to have scared away mu...            1\n",
       "1  Hollyjood strikes again ! Quoting: Buck Bundy ...            0\n",
       "2  Lawyer Who Kept Hillary Campaign Chief Out of ...            0\n",
       "3  Print \\nWhispers of â€œpaybackâ€ are being di...            0\n",
       "4  The budget deal was crafted by outgoing Speake...            1"
      ]
     },
     "metadata": {},
     "execution_count": 28
    }
   ],
   "metadata": {}
  },
  {
   "cell_type": "code",
   "execution_count": 29,
   "source": [
    "#Clean the text strings from useless/ineligible characters\n",
    "def text_clean(text):\n",
    "    text = text.lower()\n",
    "    text = text.strip()\n",
    "    text = text.capitalize()\n",
    "    text = re.sub('\\[.*?\\]', '', text)\n",
    "    text = re.sub(\"\\\\W\",\" \",text) \n",
    "    text = re.sub('<.*?>+', '', text)\n",
    "    text = re.sub(\"(http\\S+)\", \"\", text)\n",
    "    text = re.sub('[%s]' % re.escape(string.punctuation), '', text)\n",
    "    text = re.sub('(\\n+)', '', text)\n",
    "    text = re.sub(\"([\\w\\.\\-\\_]+@[\\w\\.\\-\\_]+)\", \"\", text)\n",
    "    return text\n",
    "news[\"text\"] = news[\"text\"].apply(text_clean)\n",
    "news.head()"
   ],
   "outputs": [
    {
     "output_type": "execute_result",
     "data": {
      "text/html": [
       "<div>\n",
       "<style scoped>\n",
       "    .dataframe tbody tr th:only-of-type {\n",
       "        vertical-align: middle;\n",
       "    }\n",
       "\n",
       "    .dataframe tbody tr th {\n",
       "        vertical-align: top;\n",
       "    }\n",
       "\n",
       "    .dataframe thead th {\n",
       "        text-align: right;\n",
       "    }\n",
       "</style>\n",
       "<table border=\"1\" class=\"dataframe\">\n",
       "  <thead>\n",
       "    <tr style=\"text-align: right;\">\n",
       "      <th></th>\n",
       "      <th>text</th>\n",
       "      <th>truth_class</th>\n",
       "    </tr>\n",
       "  </thead>\n",
       "  <tbody>\n",
       "    <tr>\n",
       "      <th>0</th>\n",
       "      <td>Hillary clinton appears to have scared away mu...</td>\n",
       "      <td>1</td>\n",
       "    </tr>\n",
       "    <tr>\n",
       "      <th>1</th>\n",
       "      <td>Hollyjood strikes again   quoting  buck bundy ...</td>\n",
       "      <td>0</td>\n",
       "    </tr>\n",
       "    <tr>\n",
       "      <th>2</th>\n",
       "      <td>Lawyer who kept hillary campaign chief out of ...</td>\n",
       "      <td>0</td>\n",
       "    </tr>\n",
       "    <tr>\n",
       "      <th>3</th>\n",
       "      <td>Print  whispers of â œpaybackâ   are being dir...</td>\n",
       "      <td>0</td>\n",
       "    </tr>\n",
       "    <tr>\n",
       "      <th>4</th>\n",
       "      <td>The budget deal was crafted by outgoing speake...</td>\n",
       "      <td>1</td>\n",
       "    </tr>\n",
       "  </tbody>\n",
       "</table>\n",
       "</div>"
      ],
      "text/plain": [
       "                                                text  truth_class\n",
       "0  Hillary clinton appears to have scared away mu...            1\n",
       "1  Hollyjood strikes again   quoting  buck bundy ...            0\n",
       "2  Lawyer who kept hillary campaign chief out of ...            0\n",
       "3  Print  whispers of â œpaybackâ   are being dir...            0\n",
       "4  The budget deal was crafted by outgoing speake...            1"
      ]
     },
     "metadata": {},
     "execution_count": 29
    }
   ],
   "metadata": {}
  },
  {
   "cell_type": "code",
   "execution_count": 30,
   "source": [
    "#Assign the target variable and the independent variable\n",
    "x = news[\"text\"]\n",
    "y = news[\"truth_class\"]\n",
    "x_train, x_test, y_train, y_test = train_test_split(x, y, test_size=0.2)"
   ],
   "outputs": [],
   "metadata": {}
  },
  {
   "cell_type": "code",
   "execution_count": 31,
   "source": [
    "#Use the vectorizer to turn the String Texts into vectors\n",
    "Vectorizer = TfidfVectorizer()\n",
    "Vect_x_Train = Vectorizer.fit_transform(x_train)\n",
    "Vect_x_Test = Vectorizer.transform(x_test)"
   ],
   "outputs": [],
   "metadata": {}
  },
  {
   "cell_type": "code",
   "execution_count": 32,
   "source": [
    "#Use the Logistic Regression for the model\n",
    "L_Reg = LogisticRegression()\n",
    "L_Reg.fit(Vect_x_Train,y_train)\n",
    "L_Reg_Pred = L_Reg.predict(Vect_x_Test)"
   ],
   "outputs": [],
   "metadata": {}
  },
  {
   "cell_type": "code",
   "execution_count": 33,
   "source": [
    "#Show the Classification report\n",
    "print(classification_report(y_test, L_Reg_Pred))"
   ],
   "outputs": [
    {
     "output_type": "stream",
     "name": "stdout",
     "text": [
      "              precision    recall  f1-score   support\n",
      "\n",
      "           0       0.92      0.93      0.93       644\n",
      "           1       0.93      0.91      0.92       611\n",
      "\n",
      "    accuracy                           0.92      1255\n",
      "   macro avg       0.92      0.92      0.92      1255\n",
      "weighted avg       0.92      0.92      0.92      1255\n",
      "\n"
     ]
    }
   ],
   "metadata": {}
  },
  {
   "cell_type": "code",
   "execution_count": 34,
   "source": [
    "#Visualize the Confusion Matrix\n",
    "cm_display = ConfusionMatrixDisplay.from_estimator(L_Reg,Vect_x_Test,y_test, display_labels= ['Fake', 'Real'],cmap=\"YlGn\");"
   ],
   "outputs": [
    {
     "output_type": "display_data",
     "data": {
      "image/png": "[encoded data removed]",
      "text/plain": [
       "<Figure size 640x480 with 2 Axes>"
      ]
     },
     "metadata": {}
    }
   ],
   "metadata": {}
  }
 ],
 "nbformat": 4,
 "nbformat_minor": 2,
 "metadata": {
  "language_info": {
   "codemirror_mode": {
    "name": "ipython",
    "version": 3
   },
   "file_extension": ".py",
   "mimetype": "text/x-python",
   "name": "python",
   "nbconvert_exporter": "python",
   "pygments_lexer": "ipython3",
   "version": 3
  },
  "orig_nbformat": 4
 }
}
